{
 "cells": [
  {
   "cell_type": "code",
   "execution_count": null,
   "id": "c889abb3-994e-49e6-a084-c911e6d2d9ae",
   "metadata": {
    "microsoft": {
     "language": "python",
     "language_group": "synapse_pyspark"
    }
   },
   "outputs": [],
   "source": [
    "# Welcome to your new notebook\n",
    "# Type here in the cell editor to add code!"
   ]
  },
  {
   "cell_type": "code",
   "execution_count": 2,
   "id": "3638d063-65a5-429b-96bd-c172faf664ba",
   "metadata": {
    "jupyter": {
     "outputs_hidden": false,
     "source_hidden": false
    },
    "microsoft": {
     "language": "python",
     "language_group": "synapse_pyspark"
    },
    "nteract": {
     "transient": {
      "deleting": false
     }
    }
   },
   "outputs": [
    {
     "data": {
      "application/vnd.livy.statement-meta+json": {
       "execution_finish_time": "2024-12-04T04:11:43.7146766Z",
       "execution_start_time": "2024-12-04T04:11:43.3694415Z",
       "livy_statement_state": "available",
       "normalized_state": "finished",
       "parent_msg_id": "78e0dc1e-94cd-4819-9520-a2ea4388e57c",
       "queued_time": "2024-12-04T04:11:42.7518746Z",
       "session_id": "41604642-e8f3-42a1-bfd7-6f7a0c9da1b2",
       "session_start_time": null,
       "spark_pool": null,
       "state": "finished",
       "statement_id": 4,
       "statement_ids": [
        4
       ]
      },
      "text/plain": [
       "StatementMeta(, 41604642-e8f3-42a1-bfd7-6f7a0c9da1b2, 4, Finished, Available, Finished)"
      ]
     },
     "metadata": {},
     "output_type": "display_data"
    }
   ],
   "source": [
    "from pyspark.sql.types import StructType, StructField, IntegerType, StringType, DateType\n",
    "\n",
    "schema = StructType([StructField(\"raceId\", IntegerType(), False),\n",
    "                    StructField(\"driverId\", IntegerType(), False),\n",
    "                    StructField(\"lap\", IntegerType(), False),\n",
    "                    StructField(\"position\", IntegerType(), True),\n",
    "                    StructField(\"time\", StringType(), True),\n",
    "                    StructField(\"milliseconds\", IntegerType(), True)\n",
    "                    ])"
   ]
  },
  {
   "cell_type": "code",
   "execution_count": null,
   "id": "2273bace-9792-4b27-8d56-2b6f6713af34",
   "metadata": {
    "jupyter": {
     "outputs_hidden": false,
     "source_hidden": false
    },
    "microsoft": {
     "language": "python",
     "language_group": "synapse_pyspark"
    },
    "nteract": {
     "transient": {
      "deleting": false
     }
    }
   },
   "outputs": [
    {
     "data": {
      "application/vnd.livy.statement-meta+json": {
       "execution_finish_time": "2024-12-04T04:11:55.5006091Z",
       "execution_start_time": "2024-12-04T04:11:52.6604554Z",
       "livy_statement_state": "available",
       "normalized_state": "finished",
       "parent_msg_id": "cec7d3df-6ef7-4e8d-92e4-a982c06d9849",
       "queued_time": "2024-12-04T04:11:52.1367159Z",
       "session_id": "41604642-e8f3-42a1-bfd7-6f7a0c9da1b2",
       "session_start_time": null,
       "spark_pool": null,
       "state": "finished",
       "statement_id": 5,
       "statement_ids": [
        5
       ]
      },
      "text/plain": [
       "StatementMeta(, 41604642-e8f3-42a1-bfd7-6f7a0c9da1b2, 5, Finished, Available, Finished)"
      ]
     },
     "metadata": {},
     "output_type": "display_data"
    },
    {
     "name": "stdout",
     "output_type": "stream",
     "text": [
      "+------+--------+---+--------+--------+------------+\n",
      "|raceId|driverId|lap|position|    time|milliseconds|\n",
      "+------+--------+---+--------+--------+------------+\n",
      "|   841|      20|  1|       1|1:38.109|       98109|\n",
      "|   841|      20|  2|       1|1:33.006|       93006|\n",
      "|   841|      20|  3|       1|1:32.713|       92713|\n",
      "|   841|      20|  4|       1|1:32.803|       92803|\n",
      "|   841|      20|  5|       1|1:32.342|       92342|\n",
      "|   841|      20|  6|       1|1:32.605|       92605|\n",
      "|   841|      20|  7|       1|1:32.502|       92502|\n",
      "|   841|      20|  8|       1|1:32.537|       92537|\n",
      "|   841|      20|  9|       1|1:33.240|       93240|\n",
      "|   841|      20| 10|       1|1:32.572|       92572|\n",
      "|   841|      20| 11|       1|1:32.669|       92669|\n",
      "|   841|      20| 12|       1|1:32.902|       92902|\n",
      "|   841|      20| 13|       1|1:33.698|       93698|\n",
      "|   841|      20| 14|       3|1:52.075|      112075|\n",
      "|   841|      20| 15|       4|1:38.385|       98385|\n",
      "|   841|      20| 16|       2|1:31.548|       91548|\n",
      "|   841|      20| 17|       1|1:30.800|       90800|\n",
      "|   841|      20| 18|       1|1:31.810|       91810|\n",
      "|   841|      20| 19|       1|1:31.018|       91018|\n",
      "|   841|      20| 20|       1|1:31.055|       91055|\n",
      "+------+--------+---+--------+--------+------------+\n",
      "only showing top 20 rows\n",
      "\n"
     ]
    }
   ],
   "source": [
    "from pyspark.sql import SparkSession\n",
    "\n",
    "# Initialize Spark session\n",
    "spark = SparkSession.builder.getOrCreate()\n",
    "\n",
    "# Path to the folder containing all CSV files\n",
    "csv_folder_path = \"abfss://Formula1@onelake.dfs.fabric.microsoft.com/Formula1_lakehouse.Lakehouse/Files/raw/lap_times\" # you may change your to path folder\n",
    "\n",
    "# Load all CSV files in the folder without headers\n",
    "df = spark.read.csv(csv_folder_path, schema=schema, header=False)\n"
   ]
  },
  {
   "cell_type": "code",
   "execution_count": null,
   "id": "05f782dd-c559-438d-913c-fce74e3ecbbe",
   "metadata": {
    "jupyter": {
     "outputs_hidden": false,
     "source_hidden": false
    },
    "microsoft": {
     "language": "python",
     "language_group": "synapse_pyspark"
    },
    "nteract": {
     "transient": {
      "deleting": false
     }
    }
   },
   "outputs": [
    {
     "data": {
      "application/vnd.livy.statement-meta+json": {
       "execution_finish_time": "2024-12-04T04:29:05.3705853Z",
       "execution_start_time": "2024-12-04T04:29:02.409218Z",
       "livy_statement_state": "available",
       "normalized_state": "finished",
       "parent_msg_id": "53780b56-1a89-4fd0-9228-ae8f0b82d263",
       "queued_time": "2024-12-04T04:29:01.7558075Z",
       "session_id": "41604642-e8f3-42a1-bfd7-6f7a0c9da1b2",
       "session_start_time": null,
       "spark_pool": null,
       "state": "finished",
       "statement_id": 9,
       "statement_ids": [
        9
       ]
      },
      "text/plain": [
       "StatementMeta(, 41604642-e8f3-42a1-bfd7-6f7a0c9da1b2, 9, Finished, Available, Finished)"
      ]
     },
     "metadata": {},
     "output_type": "display_data"
    }
   ],
   "source": [
    "# Save the DataFrame as a Delta table in the Lakehouse\n",
    "df.write.format(\"delta\").mode(\"overwrite\").save(\"abfss://Formula1@onelake.dfs.fabric.microsoft.com/Formula1_lakehouse.Lakehouse/Tables/bronze_lap_times\") # you may change to your path folder"
   ]
  }
 ],
 "metadata": {
  "dependencies": {},
  "kernel_info": {
   "name": "synapse_pyspark"
  },
  "kernelspec": {
   "display_name": "Synapse PySpark",
   "language": "Python",
   "name": "synapse_pyspark"
  },
  "language_info": {
   "name": "python"
  },
  "microsoft": {
   "language": "python",
   "language_group": "synapse_pyspark",
   "ms_spell_check": {
    "ms_spell_check_language": "en"
   }
  },
  "nteract": {
   "version": "nteract-front-end@1.0.0"
  },
  "spark_compute": {
   "compute_id": "/trident/default",
   "session_options": {
    "conf": {
     "spark.synapse.nbs.session.timeout": "1200000"
    }
   }
  }
 },
 "nbformat": 4,
 "nbformat_minor": 5
}
